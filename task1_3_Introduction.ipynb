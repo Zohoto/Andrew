{
 "cells": [
  {
   "cell_type": "markdown",
   "metadata": {},
   "source": [
    "## Логический тип\n",
    "Логический тип данных (или boolean) – это примитивный тип данных, который принимает одно из двух возможных значений: истину (true) или ложь (false). Этот тип присутствует во многих языках программирования и используется для построения алгоритмов.\n",
    "\n",
    "Название этого типа данных (Boolean) всегда пишется с заглавной буквы, поскольку этот тип назван в честь математика Джорджа Буля, который занимался вопросами математической логики. Значения True и False тоже пишутся с большой буквы, так как в Python они являются специальными значениями.\n",
    "\n",
    "Многие математические операции можно расценивать как истинные или ложные:"
   ]
  },
  {
   "cell_type": "code",
   "execution_count": null,
   "metadata": {},
   "outputs": [],
   "source": [
    "print(500 > 100)\n",
    "my_bool = 1 > 5\n",
    "print(my_bool)\n",
    "print(200 < 400)\n",
    "print(4 < 2) \n",
    "print(5 == 5)\n",
    "print(500 == 400)"
   ]
  },
  {
   "cell_type": "code",
   "execution_count": null,
   "metadata": {},
   "outputs": [],
   "source": [
    "500 > 100 \n",
    "5 == 5"
   ]
  },
  {
   "cell_type": "markdown",
   "metadata": {},
   "source": [
    "## Строки\n",
    "Строка представляет собой последовательность из одного или нескольких символов (букв, цифр и других символов), которые могут быть постоянными или переменными. В Python cтроки обозначаются одинарными (‘) или двойными кавычками («). Чтобы создать строку, заключите последовательность символов в кавычки:"
   ]
  },
  {
   "cell_type": "code",
   "execution_count": null,
   "metadata": {},
   "outputs": [],
   "source": [
    "print(\"Hello, World!\")\n",
    "hw = 'Hello, World!'\n",
    "print(hw)"
   ]
  },
  {
   "cell_type": "markdown",
   "metadata": {},
   "source": [
    "# Структуры данных"
   ]
  },
  {
   "cell_type": "markdown",
   "metadata": {},
   "source": [
    "## Списки\n",
    "Список (list) – это структура данных для хранения объектов различных типов. Cписок очень похож на массив, но в нем можно хранить объекты различных типов. Размер списка не статичен, его можно изменять. Список по своей природе является изменяемым типом данных. Переменная, определяемая как список, содержит ссылку на структуру в памяти, которая в свою очередь хранит ссылки на какие-либо другие объекты или структуры."
   ]
  },
  {
   "cell_type": "code",
   "execution_count": 1,
   "metadata": {},
   "outputs": [
    {
     "data": {
      "text/plain": [
       "['с', 'п', 'и', 'с', 'о', 'к']"
      ]
     },
     "execution_count": 1,
     "metadata": {},
     "output_type": "execute_result"
    }
   ],
   "source": [
    "list('список')"
   ]
  },
  {
   "cell_type": "code",
   "execution_count": 2,
   "metadata": {},
   "outputs": [
    {
     "data": {
      "text/plain": [
       "list"
      ]
     },
     "execution_count": 2,
     "metadata": {},
     "output_type": "execute_result"
    }
   ],
   "source": [
    "a = []\n",
    "type(a)"
   ]
  },
  {
   "cell_type": "code",
   "execution_count": 3,
   "metadata": {},
   "outputs": [
    {
     "data": {
      "text/plain": [
       "list"
      ]
     },
     "execution_count": 3,
     "metadata": {},
     "output_type": "execute_result"
    }
   ],
   "source": [
    "b = list()\n",
    "type(b)"
   ]
  },
  {
   "cell_type": "code",
   "execution_count": 4,
   "metadata": {},
   "outputs": [
    {
     "name": "stdout",
     "output_type": "stream",
     "text": [
      "[1, 3, 5, 7]\n",
      "[1, 3, 5, 7]\n"
     ]
    }
   ],
   "source": [
    "a = [1, 3, 5, 7]\n",
    "b = a[:]\n",
    "print(a)\n",
    "print(b)"
   ]
  },
  {
   "cell_type": "markdown",
   "metadata": {},
   "source": [
    "Почувствуйте разницу"
   ]
  },
  {
   "cell_type": "code",
   "execution_count": 5,
   "metadata": {},
   "outputs": [
    {
     "name": "stdout",
     "output_type": "stream",
     "text": [
      "[1, 4, 6, 8]\n",
      "[1, 4, 6, 8]\n"
     ]
    }
   ],
   "source": [
    "a = [4, 8, 6, 1]\n",
    "b = a\n",
    "a.sort()\n",
    "print(a)\n",
    "print(b)"
   ]
  },
  {
   "cell_type": "code",
   "execution_count": 6,
   "metadata": {},
   "outputs": [
    {
     "name": "stdout",
     "output_type": "stream",
     "text": [
      "[1, 4, 6, 8]\n",
      "[4, 8, 6, 1]\n"
     ]
    }
   ],
   "source": [
    "a = [4, 8, 6, 1]\n",
    "b = a[:]\n",
    "a.sort()\n",
    "print(a)\n",
    "print(b)"
   ]
  },
  {
   "cell_type": "markdown",
   "metadata": {},
   "source": [
    "***Задание 1*** \n",
    "\n",
    "Объясните причину получения разных результатов. \n",
    "\n",
    "Дело в то, что .... "
   ]
  },
  {
   "cell_type": "markdown",
   "metadata": {},
   "source": [
    "### Методы списков\n",
    "\n",
    "Метод |\tЧто делает\n",
    ":-------|:--------\n",
    "list.append(x)| Добавляет элемент в конец списка\n",
    "list.extend(L)| Расширяет список list, добавляя в конец все элементы списка L\n",
    "list.insert(i, x)|\tВставляет на i-ый элемент значение x\n",
    "list.remove(x)| Удаляет первый элемент в списке, имеющий значение x. ValueError, если такого элемента не существует\n",
    "list.pop([i])| Удаляет i-ый элемент и возвращает его. Если индекс не указан, удаляется последний элемент\n",
    "list.index(x, [start [, end]])| Возвращает положение первого элемента со значением x (при этом поиск ведется от start до end)\n",
    "list.count(x)|\tВозвращает количество элементов со значением x\n",
    "list.sort([key=функция])| Сортирует список на основе функции\n",
    "list.reverse()| Разворачивает список\n",
    "list.copy()|\tПоверхностная копия списка\n",
    "list.clear()| Очищает список"
   ]
  },
  {
   "cell_type": "markdown",
   "metadata": {},
   "source": [
    "# Кортежи\n",
    "Кортеж (tuple) позволяет группировать данные. Кортеж – это неизменяемая упорядоченная последовательность элементов.\n",
    "\n",
    "Кортежи очень похожи на списки, но вместо квадратных скобок они используют круглые скобки. Кроме того данные этого типа нельзя изменять.\n",
    "\n",
    "Кортеж имеет такой вид:"
   ]
  },
  {
   "cell_type": "code",
   "execution_count": null,
   "metadata": {},
   "outputs": [],
   "source": [
    "mytuple = (\"name\",  \"email\",  \"password\")\n",
    "for i in mytuple:  \n",
    "    print(i)"
   ]
  },
  {
   "cell_type": "markdown",
   "metadata": {},
   "source": [
    "Сравните списки и кортежи"
   ]
  },
  {
   "cell_type": "code",
   "execution_count": 7,
   "metadata": {},
   "outputs": [
    {
     "name": "stdout",
     "output_type": "stream",
     "text": [
      "72\n",
      "88\n"
     ]
    }
   ],
   "source": [
    "a = (1, 2, 3, 4, 5, 6)\n",
    "b = [1, 2, 3, 4, 5, 6]\n",
    "print(a.__sizeof__())\n",
    "print(b.__sizeof__())"
   ]
  },
  {
   "cell_type": "markdown",
   "metadata": {},
   "source": [
    "# Словари \n",
    "Словарь (dict) представляет собой структуру данных (которая ещё называется ассоциативный массив), предназначенную для хранения произвольных объектов с доступом по ключу. Данные в словаре хранятся в формате ключ – значение. Если вспомнить такую структуру как список, то доступ к его элементам осуществляется по индексу, который представляет собой целое неотрицательное число, причем мы сами, непосредственно, не участвуем в его создании (индекса). В словаре аналогом индекса является ключ, при этом ответственность за его формирование ложится на программиста.\n"
   ]
  },
  {
   "cell_type": "code",
   "execution_count": 8,
   "metadata": {},
   "outputs": [
    {
     "name": "stdout",
     "output_type": "stream",
     "text": [
      "<class 'dict'>\n"
     ]
    }
   ],
   "source": [
    "d1 = dict()\n",
    "print(type(d1))"
   ]
  },
  {
   "cell_type": "code",
   "execution_count": 9,
   "metadata": {},
   "outputs": [
    {
     "name": "stdout",
     "output_type": "stream",
     "text": [
      "<class 'dict'>\n"
     ]
    }
   ],
   "source": [
    "d2 = {}\n",
    "print(type(d2))"
   ]
  },
  {
   "cell_type": "code",
   "execution_count": 1,
   "metadata": {},
   "outputs": [],
   "source": [
    "# Другой пример\n",
    "gender_dict = {0: 'муж',\n",
    "               1: 'жен'}"
   ]
  },
  {
   "cell_type": "code",
   "execution_count": 11,
   "metadata": {},
   "outputs": [],
   "source": [
    "# Другой пример\n",
    "dictionary = {'персона': 'человек',\n",
    "              'марафон': 'гонка бегунов длиной около 26 миль',\n",
    "              'противостоять': 'оставаться сильным, несмотря на давление',\n",
    "              'бежать': 'двигаться со скоростью'}"
   ]
  },
  {
   "cell_type": "code",
   "execution_count": 12,
   "metadata": {},
   "outputs": [
    {
     "data": {
      "text/plain": [
       "'гонка бегунов длиной около 26 миль'"
      ]
     },
     "execution_count": 12,
     "metadata": {},
     "output_type": "execute_result"
    }
   ],
   "source": [
    "# Получение данных из словаря по ключу\\\n",
    "\n",
    "dictionary['марафон']"
   ]
  },
  {
   "cell_type": "code",
   "execution_count": 13,
   "metadata": {},
   "outputs": [
    {
     "data": {
      "text/plain": [
       "'род обуви, закрывающей ногу не выше щиколотки'"
      ]
     },
     "execution_count": 13,
     "metadata": {},
     "output_type": "execute_result"
    }
   ],
   "source": [
    "# Добавление новых пар \n",
    "dictionary['туфля'] = 'род обуви, закрывающей ногу не выше щиколотки'\n",
    "dictionary['туфля']"
   ]
  },
  {
   "cell_type": "markdown",
   "metadata": {},
   "source": [
    "[**Полная информация о структурах данных**]( https://docs.python.org/3/tutorial/datastructures.html#)"
   ]
  },
  {
   "cell_type": "markdown",
   "metadata": {},
   "source": [
    "***Задание 2*** \n",
    "\n",
    "Создайте и заполните список из ста числовых элементов, воспользовавшись функцией [random]( https://docs.python.org/3/library/random.html). Выведите на экран элементы списка \n",
    "\n",
    "\n",
    "1)\tНайдите сумму и произведение элементов списка. Результаты выведите на экран. \n",
    "\n",
    "2)\tНайдите наибольший элемент списка и выведите его на экран.\n",
    "\n",
    "3)\tОпределите, есть ли в списке повторяющиеся элементы, если да, то выведите на экран все повторяющиеся значения с указанием количества повторений.\n",
    "\n",
    "4)\tПоменяйте местами самый большой и самый маленький элементы исходного списка. Выведите на экран элементы нового списка. \n"
   ]
  },
  {
   "cell_type": "code",
   "execution_count": 5,
   "metadata": {},
   "outputs": [
    {
     "name": "stdout",
     "output_type": "stream",
     "text": [
      "[29, 69, 81, 78, 75, 24, 93, 15, 78, 48, 78, 16, 79, 26, 58, 18, 71, 20, 39, 61, 84, 74, 10, 78, 49, 4, 38, 16, 3, 93, 93, 12, 18, 48, 27, 15, 30, 16, 22, 72, 21, 84, 64, 33, 67, 98, 54, 39, 8, 43, 61, 54, 63, 97, 65, 17, 33, 72, 6, 56, 13, 27, 10, 74, 7, 83, 66, 35, 10, 17, 14, 87, 88, 97, 51, 45, 98, 75, 82, 79, 58, 21, 98, 13, 89, 40, 41, 48, 34, 63, 15, 87, 1, 86, 24, 3, 29, 85, 89, 15]\n",
      "сумма: 4890 \n",
      "произведение: 674745385977776836044453840915761460280862076469291263079415482433560808178114136062947228482345080903220983977317492363428796084147716096000000000000000000\n",
      "максимум: 98\n",
      "3, 2\n",
      "10, 3\n",
      "13, 2\n",
      "15, 4\n",
      "16, 3\n",
      "17, 2\n",
      "18, 2\n",
      "21, 2\n",
      "24, 2\n",
      "27, 2\n",
      "29, 2\n",
      "33, 2\n",
      "39, 2\n",
      "48, 3\n",
      "54, 2\n",
      "58, 2\n",
      "61, 2\n",
      "63, 2\n",
      "72, 2\n",
      "74, 2\n",
      "75, 2\n",
      "78, 4\n",
      "79, 2\n",
      "84, 2\n",
      "87, 2\n",
      "89, 2\n",
      "93, 3\n",
      "97, 2\n",
      "[29, 69, 81, 78, 75, 24, 93, 15, 78, 48, 78, 16, 79, 26, 58, 18, 71, 20, 39, 61, 84, 74, 10, 78, 49, 4, 38, 16, 3, 93, 93, 12, 18, 48, 27, 15, 30, 16, 22, 72, 21, 84, 64, 33, 67, 1, 54, 39, 8, 43, 61, 54, 63, 97, 65, 17, 33, 72, 6, 56, 13, 27, 10, 74, 7, 83, 66, 35, 10, 17, 14, 87, 88, 97, 51, 45, 1, 75, 82, 79, 58, 21, 1, 13, 89, 40, 41, 48, 34, 63, 15, 87, 98, 86, 24, 3, 29, 85, 89, 15]\n"
     ]
    }
   ],
   "source": [
    "import random\n",
    "list = []\n",
    "num = 0\n",
    "while num != 100:\n",
    "    num_a = random.randint(0,100)\n",
    "    list.append(num_a)\n",
    "    num += 1\n",
    "print(list)\n",
    "num_sum = 0\n",
    "num_multi = 1\n",
    "for i in list:\n",
    "    num_sum += i\n",
    "    num_multi *= i\n",
    "print(\"сумма: \" + str(num_sum), \"\\n\" \"произведение: \" + str(num_multi)) # 1\n",
    "print(\"максимум: \" + str(max(list))) # 2\n",
    "\n",
    "list_2 = sorted(list) # 3\n",
    "num_num = 1\n",
    "j = list_2[0]\n",
    "for j in range(1, len(list_2)):\n",
    "    if list_2[j] == list_2[j-1]:\n",
    "        num_num += 1\n",
    "        if j+1 == max(list_2) and num_num > 1:\n",
    "            print(str(list_2[j]) + ',', str(num_num))\n",
    "    elif list_2[j] > list_2[j-1]:\n",
    "        if num_num > 1:\n",
    "            print(str(list_2[j-1]) + ',', str(num_num))\n",
    "        num_num = 1\n",
    "        \n",
    "max = max(list) #4\n",
    "min = min(list)\n",
    "for i in range(len(list)):\n",
    "    if list[i] == max:\n",
    "        list[i] = min\n",
    "    elif list[i] == min:\n",
    "        list[i] = max\n",
    "print(list)\n",
    "\n",
    "    "
   ]
  },
  {
   "cell_type": "markdown",
   "metadata": {},
   "source": [
    "***Задание 3*** \n",
    "\n",
    "В сводной таблице собраны данные об объемах продаж за последние три года:\n",
    "\n",
    "Год | 1 |2 |3 |4 |5 |6 |7 |8 |9 |10 |11 |12 \n",
    ":--- | :--- |:--- |:--- |:--- |:--- |:--- |:--- |:--- |:--- |:--- |:--- |:---\n",
    "2016|22000 |190000 |245000 |151000 |98000 |354000 |126000 |124000 |121000 |148237 |252300 |324774\n",
    "2017| 88000 |168446 |137590 |81000 |102000 |321000 |345120 |153010 |320172 |231423 |245100|256484\n",
    "2018| 465000 |285333 |134000 |353000 |136000 |234126 |345600 |352023 |153230 |172000 |412986 |354128\n",
    "\n",
    "1) Выведите на экран месяцы (с указанием года), в которых наблюдались максимальная и минимальная прибыль за весь период\n",
    "\n",
    "2) Выведите периоды по годам, в которых наблюдался стабильный рост продаж \n"
   ]
  },
  {
   "cell_type": "code",
   "execution_count": null,
   "metadata": {},
   "outputs": [],
   "source": [
    "month = {1: 'январь', 2: 'февраль', 3: 'март', 4: 'апрель', 5: 'май', 6: 'июнь',\n",
    "         7: 'июль', 8: 'август', 9: 'сентябрь', 10: 'октябрь', 11: 'ноябрь', 12: 'декабрь'}\n",
    "\n",
    "year_16 = {1: '22000', 2: '190000', 3: '245000', 4: '151000', 5: '98000', 6: '354000',\n",
    "           7: '126000', 8: '124000', 9: '121000', 10: '148237', 11: '252300', 12: '324774'}\n",
    "max_16 = 0\n",
    "min_16 = 9999999999\n",
    "for i in range(1, 13):\n",
    "    if max_16 < int(year_16[i]):\n",
    "        max_16 = int(year_16[i])\n",
    "        max_num_16 = i\n",
    "    if min_16 > int(year_16[i]):\n",
    "        min_16 = int(year_16[i])\n",
    "        min_num_16 = i\n",
    "print(2016)\n",
    "print(\"Пик продаж: \" + str(month[max_num_16]), max_16)\n",
    "print(\"Минимальные продажи: \" + str(month[min_num_16]), min_16)\n",
    "\n",
    "year_17 = {1: '88000', 2: '168446', 3: '137590', 4: '81000', 5: '102000', 6: '321000',\n",
    "           7: '345120', 8: '153010', 9: '320172', 10: '231423', 11: '245100', 12: '256484'}\n",
    "max_17 = 0\n",
    "min_17 = 9999999999\n",
    "for i in range(1, 13):\n",
    "    if max_17 < int(year_17[i]):\n",
    "        max_17 = int(year_17[i])\n",
    "        max_num_17 = i\n",
    "    if min_17 > int(year_17[i]):\n",
    "        min_17 = int(year_17[i])\n",
    "        min_num_17 = i\n",
    "print(\"\\n2017\")\n",
    "print(\"Пик продаж: \" + str(month[max_num_17]), max_17)\n",
    "print(\"Минимальные продажи: \" + str(month[min_num_17]), min_17)\n",
    "\n",
    "year_18 = {1: '465000', 2: '285333', 3: '134000', 4: '353000', 5: '136000', 6: '234126',\n",
    "           7: '345600', 8: '352023', 9: '153230', 10: '172000', 11: '412986', 12: '354128'}\n",
    "max_18 = 0\n",
    "min_18 = 9999999999\n",
    "for i in range(1, 13):\n",
    "    if max_18 < int(year_18[i]):\n",
    "        max_18 = int(year_18[i])\n",
    "        max_num_18 = i\n",
    "    if min_18 > int(year_18[i]):\n",
    "        min_18 = int(year_18[i])\n",
    "        min_num_18 = i\n",
    "print(\"\\n2018\")\n",
    "print(\"Пик продаж: \" + str(month[max_num_18]), max_18)\n",
    "print(\"Минимальные продажи: \" + str(month[min_num_18]), min_18)"
   ]
  },
  {
   "cell_type": "markdown",
   "metadata": {},
   "source": [
    "years = [year_16, year_17, year_18]\n",
    "month_2 = []\n",
    "for j in years:\n",
    "   for k in range(2, 12):\n",
    "       if int(year_16[k]) > int(year_16[k - 1]):\n",
    "           month_2.append(month[k - 1])\n",
    "       else:\n",
    "           if len(month_2) > 1:\n",
    "               month_2.append(month[k - 1])\n",
    "               print(month_2)\n",
    "               month_2 = []\n",
    "У меня не получается реализовать эту часть кода"
   ]
  },
  {
   "cell_type": "markdown",
   "metadata": {},
   "source": [
    "**Замечание!**\n",
    "\n",
    "Используйте только [стандартные модули Python]( https://docs.python.org/3/tutorial/modules.html#standard-modules)\n",
    "\n",
    "Для тех, кто только начинает использовать Python: [Синтаксис базовых управляющих конструкций языка (операторы и функции)](https://docs.python.org/3/tutorial/controlflow.html)"
   ]
  },
  {
   "cell_type": "markdown",
   "metadata": {},
   "source": [
    "***Задание 4*** \n",
    "\n",
    "1) Ознакомьтесь с [базовыми инструкциями для работы с файлами](https://docs.python.org/3/tutorial/inputoutput.html#reading-and-writing-files) \n",
    "\n",
    "2) Сохраните все результаты Задания 2 в файл"
   ]
  }
 ],
 "metadata": {
  "kernelspec": {
   "display_name": "Python 3 (ipykernel)",
   "language": "python",
   "name": "python3"
  },
  "language_info": {
   "codemirror_mode": {
    "name": "ipython",
    "version": 3
   },
   "file_extension": ".py",
   "mimetype": "text/x-python",
   "name": "python",
   "nbconvert_exporter": "python",
   "pygments_lexer": "ipython3",
   "version": "3.8.8"
  }
 },
 "nbformat": 4,
 "nbformat_minor": 2
}
